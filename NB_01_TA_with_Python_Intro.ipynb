{
  "cells": [
    {
      "cell_type": "markdown",
      "metadata": {
        "id": "view-in-github",
        "colab_type": "text"
      },
      "source": [
        "<a href=\"https://colab.research.google.com/github/BaponChoudhury/lectures/blob/master/NB_01_TA_with_Python_Intro.ipynb\" target=\"_parent\"><img src=\"https://colab.research.google.com/assets/colab-badge.svg\" alt=\"Open In Colab\"/></a>"
      ]
    },
    {
      "cell_type": "markdown",
      "metadata": {
        "id": "eLzABSPNH3NH"
      },
      "source": [
        "# Technical Analysis with Python - an Introduction"
      ]
    },
    {
      "cell_type": "markdown",
      "metadata": {
        "id": "S6sFVa0UH3NT"
      },
      "source": [
        "## Installing and importing required Libraries/Packages"
      ]
    },
    {
      "cell_type": "markdown",
      "metadata": {
        "id": "MnkPpCxyH3NU"
      },
      "source": [
        "Install yfinance, plotly and cufflinks with:\n",
        "- pip install yfinance\n",
        "- pip install cufflinks"
      ]
    },
    {
      "cell_type": "markdown",
      "metadata": {
        "id": "Tlearpk2H3NW"
      },
      "source": [
        "If you already have installed yfinance, please upgrade with"
      ]
    },
    {
      "cell_type": "markdown",
      "metadata": {
        "id": "qJyZveqvH3NX"
      },
      "source": [
        "pip install yfinance --upgrade"
      ]
    },
    {
      "cell_type": "markdown",
      "metadata": {
        "id": "yQdV1OC6H3NY"
      },
      "source": [
        "## Loading Financial Data from the Web"
      ]
    },
    {
      "cell_type": "code",
      "execution_count": 1,
      "metadata": {
        "id": "O-DbVk1UH3Na"
      },
      "outputs": [],
      "source": [
        "import pandas as pd\n",
        "import numpy as np\n",
        "import matplotlib.pyplot as plt\n",
        "import cufflinks as cf\n",
        "import yfinance as yf"
      ]
    },
    {
      "cell_type": "code",
      "execution_count": null,
      "metadata": {
        "id": "-nURfs3wH3Ne"
      },
      "outputs": [],
      "source": [
        "start = \"2010-01-01\"\n",
        "end = \"2020-12-31\""
      ]
    },
    {
      "cell_type": "code",
      "execution_count": null,
      "metadata": {
        "id": "3u23e00zH3Ng"
      },
      "outputs": [],
      "source": [
        "symbol = \"MSFT\""
      ]
    },
    {
      "cell_type": "code",
      "execution_count": null,
      "metadata": {
        "id": "hn7O0G8BH3Nh"
      },
      "outputs": [],
      "source": [
        "df = yf.download(tickers = symbol, start = start, end = end)\n",
        "df"
      ]
    },
    {
      "cell_type": "code",
      "execution_count": null,
      "metadata": {
        "id": "n2KWjrm8H3Ni"
      },
      "outputs": [],
      "source": [
        "df.info()"
      ]
    },
    {
      "cell_type": "code",
      "execution_count": null,
      "metadata": {
        "id": "kx9douL6H3Nj"
      },
      "outputs": [],
      "source": [
        "symbol = [\"MSFT\", \"GE\", \"AAPL\"]"
      ]
    },
    {
      "cell_type": "code",
      "execution_count": null,
      "metadata": {
        "id": "T0WigV07H3Nj"
      },
      "outputs": [],
      "source": [
        "df = yf.download(tickers = symbol, start = start, end = end)\n",
        "df"
      ]
    },
    {
      "cell_type": "code",
      "execution_count": null,
      "metadata": {
        "id": "ahc79o9sH3Nk"
      },
      "outputs": [],
      "source": [
        "#df.to_csv(\"stocks.csv\")"
      ]
    },
    {
      "cell_type": "code",
      "execution_count": null,
      "metadata": {
        "id": "qAxtPlDEH3Nk"
      },
      "outputs": [],
      "source": []
    },
    {
      "cell_type": "markdown",
      "metadata": {
        "id": "JcMO5FnOH3Nk"
      },
      "source": [
        "## Charting - Simple Line Charts"
      ]
    },
    {
      "cell_type": "code",
      "execution_count": null,
      "metadata": {
        "id": "VstbhTrOH3Nl"
      },
      "outputs": [],
      "source": [
        "df = pd.read_csv(\"stocks.csv\", header = [0, 1], index_col = 0, parse_dates = [0])\n",
        "df"
      ]
    },
    {
      "cell_type": "code",
      "execution_count": null,
      "metadata": {
        "id": "-vwa_9yKH3Nl"
      },
      "outputs": [],
      "source": [
        "df.info()"
      ]
    },
    {
      "cell_type": "code",
      "execution_count": null,
      "metadata": {
        "id": "URG-TtgDH3Nm"
      },
      "outputs": [],
      "source": [
        "df.Close.GE"
      ]
    },
    {
      "cell_type": "code",
      "execution_count": null,
      "metadata": {
        "id": "JDXNVY9uH3Nm"
      },
      "outputs": [],
      "source": [
        "df.Close.GE.plot(figsize = (12, 8))\n",
        "plt.show()"
      ]
    },
    {
      "cell_type": "code",
      "execution_count": null,
      "metadata": {
        "id": "VI1aOCoMH3Nn"
      },
      "outputs": [],
      "source": [
        "df.loc[\"2020-06\":, (\"Close\", \"GE\")].plot(figsize = (12, 8))\n",
        "plt.show()"
      ]
    },
    {
      "cell_type": "code",
      "execution_count": null,
      "metadata": {
        "id": "ZmCxKPQUH3Nn"
      },
      "outputs": [],
      "source": []
    },
    {
      "cell_type": "markdown",
      "metadata": {
        "id": "MV5G4RH5H3Nn"
      },
      "source": [
        "## Charting - Interactive Line Charts with Cufflinks and Plotly"
      ]
    },
    {
      "cell_type": "code",
      "execution_count": null,
      "metadata": {
        "id": "U53xdQr8H3No"
      },
      "outputs": [],
      "source": [
        "df"
      ]
    },
    {
      "cell_type": "code",
      "execution_count": null,
      "metadata": {
        "id": "LGgJBKwUH3No"
      },
      "outputs": [],
      "source": [
        "cf.set_config_file(offline = True)"
      ]
    },
    {
      "cell_type": "code",
      "execution_count": null,
      "metadata": {
        "id": "iUsmnwo6H3Np"
      },
      "outputs": [],
      "source": [
        "df.loc[\"2020-06\":, (\"Close\", \"GE\")].iplot()"
      ]
    },
    {
      "cell_type": "code",
      "execution_count": null,
      "metadata": {
        "id": "swGL64IHH3Np"
      },
      "outputs": [],
      "source": [
        "df.Close.iplot()"
      ]
    },
    {
      "cell_type": "code",
      "execution_count": null,
      "metadata": {
        "id": "_SQxVcN4H3Np"
      },
      "outputs": [],
      "source": []
    },
    {
      "cell_type": "markdown",
      "metadata": {
        "id": "oCNwvOxrH3Np"
      },
      "source": [
        "## Customizing Plotly Charts"
      ]
    },
    {
      "cell_type": "code",
      "execution_count": null,
      "metadata": {
        "id": "bkObqg1MH3Nq"
      },
      "outputs": [],
      "source": [
        "df.Close"
      ]
    },
    {
      "cell_type": "code",
      "execution_count": null,
      "metadata": {
        "id": "JEWmk_FyH3Nq"
      },
      "outputs": [],
      "source": [
        "df.Close.iplot(fill = True)"
      ]
    },
    {
      "cell_type": "code",
      "execution_count": null,
      "metadata": {
        "id": "-WCgcT-FH3Nq"
      },
      "outputs": [],
      "source": [
        "cf.colors.scales()"
      ]
    },
    {
      "cell_type": "code",
      "execution_count": null,
      "metadata": {
        "id": "7YzUpTEQH3Nr"
      },
      "outputs": [],
      "source": [
        "df.Close.iplot(fill = True, colorscale= \"reds\")"
      ]
    },
    {
      "cell_type": "code",
      "execution_count": null,
      "metadata": {
        "id": "iV_ajRt8H3Nr"
      },
      "outputs": [],
      "source": [
        "cf.getThemes()"
      ]
    },
    {
      "cell_type": "code",
      "execution_count": null,
      "metadata": {
        "id": "Wy6X4B1mH3Ns"
      },
      "outputs": [],
      "source": [
        "df.Close.iplot(fill = True, colorscale= \"rdylbu\", theme= \"solar\")"
      ]
    },
    {
      "cell_type": "code",
      "execution_count": null,
      "metadata": {
        "id": "cmRetQ7oH3Ns"
      },
      "outputs": [],
      "source": [
        "df.Close.iplot(fill = True, colorscale= \"rdylbu\", theme= \"solar\", \n",
        "             title= \"US Stocks\", xTitle= \"Time\", yTitle= \"Stock Price\")"
      ]
    },
    {
      "cell_type": "code",
      "execution_count": null,
      "metadata": {
        "id": "7hUaxqKmH3Ns"
      },
      "outputs": [],
      "source": [
        "df.Close[[\"GE\", \"AAPL\"]].iplot(kind = \"spread\", fill = True, colorscale= \"rdylbu\", theme= \"solar\",\n",
        "                             title= \"GE vs. AAPL\", xTitle= \"Time\", yTitle= \"Stock Price\")"
      ]
    },
    {
      "cell_type": "code",
      "execution_count": null,
      "metadata": {
        "id": "AYWh7Mt_H3Ns"
      },
      "outputs": [],
      "source": []
    },
    {
      "cell_type": "markdown",
      "metadata": {
        "id": "VeDgOw9dH3Nt"
      },
      "source": [
        "## Candlestick and OHLC Charts "
      ]
    },
    {
      "cell_type": "code",
      "execution_count": null,
      "metadata": {
        "id": "4VEuxx7HH3OB"
      },
      "outputs": [],
      "source": [
        "df"
      ]
    },
    {
      "cell_type": "code",
      "execution_count": null,
      "metadata": {
        "id": "38BqpSPlH3OB"
      },
      "outputs": [],
      "source": [
        "df.swaplevel(axis = 1).GE"
      ]
    },
    {
      "cell_type": "code",
      "execution_count": null,
      "metadata": {
        "id": "eo6rj6s4H3OC"
      },
      "outputs": [],
      "source": [
        "ge = df.swaplevel(axis = 1).GE.copy()"
      ]
    },
    {
      "cell_type": "code",
      "execution_count": null,
      "metadata": {
        "id": "7qt-W0ZaH3OC"
      },
      "outputs": [],
      "source": [
        "ge"
      ]
    },
    {
      "cell_type": "code",
      "execution_count": null,
      "metadata": {
        "id": "22sORvaEH3OC"
      },
      "outputs": [],
      "source": [
        "ge.loc[\"05-2017\"].iplot(kind= \"candle\")"
      ]
    },
    {
      "cell_type": "code",
      "execution_count": null,
      "metadata": {
        "id": "pOcL4LsCH3OD"
      },
      "outputs": [],
      "source": [
        "ge.loc[\"5-2017\"].iplot(kind= \"ohlc\")"
      ]
    },
    {
      "cell_type": "code",
      "execution_count": null,
      "metadata": {
        "id": "igCzuXRAH3OE"
      },
      "outputs": [],
      "source": []
    },
    {
      "cell_type": "markdown",
      "metadata": {
        "id": "uPm96in9H3OE"
      },
      "source": [
        "## Bar Size / Granularity"
      ]
    },
    {
      "cell_type": "code",
      "execution_count": null,
      "metadata": {
        "id": "50uLRn0lH3OE"
      },
      "outputs": [],
      "source": [
        "from pandas.tseries.frequencies import to_offset"
      ]
    },
    {
      "cell_type": "code",
      "execution_count": null,
      "metadata": {
        "id": "8Wjz5hDxH3OF"
      },
      "outputs": [],
      "source": [
        "ge"
      ]
    },
    {
      "cell_type": "code",
      "execution_count": null,
      "metadata": {
        "id": "P4D5GT60H3OF"
      },
      "outputs": [],
      "source": [
        "ge.loc[\"5-2017\"].iplot(kind= \"candle\")"
      ]
    },
    {
      "cell_type": "code",
      "execution_count": null,
      "metadata": {
        "id": "2wpFWbAZH3OF"
      },
      "outputs": [],
      "source": [
        "weekly = ge.resample(\"W-Fri\").ohlc()"
      ]
    },
    {
      "cell_type": "code",
      "execution_count": null,
      "metadata": {
        "id": "EdWz6cxLH3OF"
      },
      "outputs": [],
      "source": [
        "weekly"
      ]
    },
    {
      "cell_type": "code",
      "execution_count": null,
      "metadata": {
        "id": "-hJWkRf-H3OG"
      },
      "outputs": [],
      "source": [
        "ge"
      ]
    },
    {
      "cell_type": "code",
      "execution_count": null,
      "metadata": {
        "id": "HBxRf5f_H3OG"
      },
      "outputs": [],
      "source": [
        "weekly = ge.resample(\"W-Fri\").agg({\"Open\":\"first\",\n",
        "                                   \"High\":\"max\",\n",
        "                                   \"Low\":\"min\",\n",
        "                                   \"Close\":\"last\"\n",
        "                                  })"
      ]
    },
    {
      "cell_type": "code",
      "execution_count": null,
      "metadata": {
        "id": "lnXfs7E2H3OG"
      },
      "outputs": [],
      "source": [
        "weekly"
      ]
    },
    {
      "cell_type": "code",
      "execution_count": null,
      "metadata": {
        "id": "QltUM95RH3OG"
      },
      "outputs": [],
      "source": [
        "weekly.index = weekly.index - to_offset(\"4d\")"
      ]
    },
    {
      "cell_type": "code",
      "execution_count": null,
      "metadata": {
        "id": "ZMdumhWsH3OH"
      },
      "outputs": [],
      "source": [
        "weekly.loc[\"5-2017\":\"9-2017\"].iplot(kind= \"candle\")"
      ]
    },
    {
      "cell_type": "code",
      "execution_count": null,
      "metadata": {
        "id": "1IZMGagmH3OH"
      },
      "outputs": [],
      "source": []
    },
    {
      "cell_type": "markdown",
      "metadata": {
        "id": "GmsWtf_KH3OH"
      },
      "source": [
        "## Volume Charts"
      ]
    },
    {
      "cell_type": "code",
      "execution_count": null,
      "metadata": {
        "id": "bqkhO5N9H3OI"
      },
      "outputs": [],
      "source": [
        "ge"
      ]
    },
    {
      "cell_type": "code",
      "execution_count": null,
      "metadata": {
        "id": "CI88MwwxH3OI"
      },
      "outputs": [],
      "source": [
        "qf = cf.QuantFig(df = ge.loc[\"5-2017\"])"
      ]
    },
    {
      "cell_type": "code",
      "execution_count": null,
      "metadata": {
        "id": "hSd-1siyH3OI"
      },
      "outputs": [],
      "source": [
        "type(qf)"
      ]
    },
    {
      "cell_type": "code",
      "execution_count": null,
      "metadata": {
        "id": "uKI-CfG9H3OJ"
      },
      "outputs": [],
      "source": [
        "qf.iplot(title = \"GE\", name = \"GE\")"
      ]
    },
    {
      "cell_type": "code",
      "execution_count": null,
      "metadata": {
        "id": "TSvzOYU0H3OJ"
      },
      "outputs": [],
      "source": [
        "qf.add_volume(colorchange=False)"
      ]
    },
    {
      "cell_type": "code",
      "execution_count": null,
      "metadata": {
        "id": "_jzOt1J5H3OJ"
      },
      "outputs": [],
      "source": []
    },
    {
      "cell_type": "markdown",
      "metadata": {
        "id": "Ckl0_np3H3OK"
      },
      "source": [
        "## Technical Indicators - an Overview"
      ]
    },
    {
      "cell_type": "code",
      "execution_count": null,
      "metadata": {
        "id": "qAjArVgrH3OK"
      },
      "outputs": [],
      "source": [
        "ge"
      ]
    },
    {
      "cell_type": "code",
      "execution_count": null,
      "metadata": {
        "id": "bo74Z3HrH3OK"
      },
      "outputs": [],
      "source": [
        "qf = cf.QuantFig(df = ge.loc[\"2017\":\"2018\"])"
      ]
    },
    {
      "cell_type": "code",
      "execution_count": null,
      "metadata": {
        "id": "dBZvUTgWH3OK"
      },
      "outputs": [],
      "source": [
        "#qf."
      ]
    },
    {
      "cell_type": "code",
      "execution_count": null,
      "metadata": {
        "id": "ZSWChrZmH3OL"
      },
      "outputs": [],
      "source": [
        "qf.add_sma(periods = 20)"
      ]
    },
    {
      "cell_type": "code",
      "execution_count": null,
      "metadata": {
        "id": "oY9b1CCqH3OL"
      },
      "outputs": [],
      "source": [
        "qf.iplot(title = \"GE\", name = \"GE\")"
      ]
    },
    {
      "cell_type": "code",
      "execution_count": null,
      "metadata": {
        "id": "7e6RrdEdH3OL"
      },
      "outputs": [],
      "source": [
        "qf.add_sma(periods = 100)"
      ]
    },
    {
      "cell_type": "code",
      "execution_count": null,
      "metadata": {
        "id": "Zbgm_56QH3OM"
      },
      "outputs": [],
      "source": [
        "qf.add_bollinger_bands(periods = 20, boll_std= 2)"
      ]
    },
    {
      "cell_type": "code",
      "execution_count": null,
      "metadata": {
        "id": "IByCr60JH3OM"
      },
      "outputs": [],
      "source": [
        "qf = cf.QuantFig(df = ge.loc[\"5-2017\":\"9-2017\"])"
      ]
    },
    {
      "cell_type": "code",
      "execution_count": null,
      "metadata": {
        "id": "6Pf5FUIHH3OM"
      },
      "outputs": [],
      "source": [
        "qf.iplot(title = \"GE\", name = \"GE\")"
      ]
    },
    {
      "cell_type": "code",
      "execution_count": null,
      "metadata": {
        "id": "Dt7oHHVDH3ON"
      },
      "outputs": [],
      "source": [
        "qf.add_macd()\n",
        "qf.add_dmi()"
      ]
    },
    {
      "cell_type": "code",
      "execution_count": null,
      "metadata": {
        "id": "H-BiQeZ_H3ON"
      },
      "outputs": [],
      "source": []
    },
    {
      "cell_type": "markdown",
      "metadata": {
        "id": "bl3r1tq3H3ON"
      },
      "source": [
        "## Trend Lines"
      ]
    },
    {
      "cell_type": "code",
      "execution_count": null,
      "metadata": {
        "id": "383mHCCCH3ON"
      },
      "outputs": [],
      "source": [
        "ge"
      ]
    },
    {
      "cell_type": "markdown",
      "metadata": {
        "id": "63Q9dUHyH3OO"
      },
      "source": [
        "__Uptrend__ (Higher Lows)"
      ]
    },
    {
      "cell_type": "code",
      "execution_count": null,
      "metadata": {
        "id": "WjEKoTAvH3OO"
      },
      "outputs": [],
      "source": [
        "qf = cf.QuantFig(df = ge.loc[\"2012\"])"
      ]
    },
    {
      "cell_type": "code",
      "execution_count": null,
      "metadata": {
        "id": "gzTJ-qKGH3OO"
      },
      "outputs": [],
      "source": [
        "qf.iplot(title = \"GE\", name = \"GE\")"
      ]
    },
    {
      "cell_type": "code",
      "execution_count": null,
      "metadata": {
        "id": "SQ3nQNaeH3OO"
      },
      "outputs": [],
      "source": [
        "qf.add_trendline(date0 = \"2012-07-12\", date1 = \"2012-09-04\")"
      ]
    },
    {
      "cell_type": "markdown",
      "metadata": {
        "id": "__K2FG-NH3OO"
      },
      "source": [
        "__Downtrend__ (Lower Highs)"
      ]
    },
    {
      "cell_type": "code",
      "execution_count": null,
      "metadata": {
        "id": "7N1QAoceH3OO"
      },
      "outputs": [],
      "source": [
        "qf = cf.QuantFig(df = ge.loc[\"2018\"])"
      ]
    },
    {
      "cell_type": "code",
      "execution_count": null,
      "metadata": {
        "id": "kn-zFAI1H3OP"
      },
      "outputs": [],
      "source": [
        "qf.iplot(title = \"GE\", name = \"GE\")"
      ]
    },
    {
      "cell_type": "code",
      "execution_count": null,
      "metadata": {
        "id": "7LHzzxD1H3OP"
      },
      "outputs": [],
      "source": [
        "qf.add_trendline(date0 = \"2018-05-22\", date1 = \"2018-10-09\")"
      ]
    },
    {
      "cell_type": "code",
      "execution_count": null,
      "metadata": {
        "id": "PmdrzKKpH3OP"
      },
      "outputs": [],
      "source": []
    },
    {
      "cell_type": "markdown",
      "metadata": {
        "id": "wdEa1i-yH3OP"
      },
      "source": [
        "## Support and Resistance Levels"
      ]
    },
    {
      "cell_type": "code",
      "execution_count": null,
      "metadata": {
        "id": "lQzU7lhcH3OP"
      },
      "outputs": [],
      "source": [
        "ge"
      ]
    },
    {
      "cell_type": "markdown",
      "metadata": {
        "id": "fqDm98s2H3OQ"
      },
      "source": [
        "__Resistance Lines__"
      ]
    },
    {
      "cell_type": "code",
      "execution_count": null,
      "metadata": {
        "id": "1FdMyUd_H3OQ"
      },
      "outputs": [],
      "source": [
        "qf = cf.QuantFig(df = ge.loc[\"2012\"])"
      ]
    },
    {
      "cell_type": "code",
      "execution_count": null,
      "metadata": {
        "id": "Z-IyjhzaH3OQ"
      },
      "outputs": [],
      "source": [
        "qf.iplot(title = \"GE\", name = \"GE\")"
      ]
    },
    {
      "cell_type": "code",
      "execution_count": null,
      "metadata": {
        "id": "tmKm-Eo9H3OR"
      },
      "outputs": [],
      "source": [
        "qf.add_resistance(date = \"2012-03-28\")"
      ]
    },
    {
      "cell_type": "markdown",
      "metadata": {
        "id": "ZwrVyDGuH3OR"
      },
      "source": [
        "__Support Lines__"
      ]
    },
    {
      "cell_type": "code",
      "execution_count": null,
      "metadata": {
        "id": "lT5zM2q_H3OR"
      },
      "outputs": [],
      "source": [
        "qf = cf.QuantFig(df = ge.loc[\"2013\"])"
      ]
    },
    {
      "cell_type": "code",
      "execution_count": null,
      "metadata": {
        "id": "qdE-lNoqH3OR"
      },
      "outputs": [],
      "source": [
        "qf.iplot(title = \"GE\", name = \"GE\")"
      ]
    },
    {
      "cell_type": "code",
      "execution_count": null,
      "metadata": {
        "id": "kTxQv4p_H3OS"
      },
      "outputs": [],
      "source": [
        "qf.add_support(date = \"2013-06-24\")"
      ]
    },
    {
      "cell_type": "code",
      "execution_count": null,
      "metadata": {
        "id": "mWNdJWw4H3OS"
      },
      "outputs": [],
      "source": []
    },
    {
      "cell_type": "markdown",
      "metadata": {
        "id": "2neaCxmZH3OT"
      },
      "source": [
        "## Technical Indicators"
      ]
    },
    {
      "cell_type": "markdown",
      "metadata": {
        "id": "3MRv5oO2H3OT"
      },
      "source": [
        "__SMA__"
      ]
    },
    {
      "cell_type": "code",
      "execution_count": null,
      "metadata": {
        "id": "9Pg5p-ulH3OT"
      },
      "outputs": [],
      "source": [
        "ge"
      ]
    },
    {
      "cell_type": "code",
      "execution_count": null,
      "metadata": {
        "id": "eKynLQWnH3OU"
      },
      "outputs": [],
      "source": [
        "qf = cf.QuantFig(df = ge.loc[\"2018\":\"2020\"])"
      ]
    },
    {
      "cell_type": "code",
      "execution_count": null,
      "metadata": {
        "id": "HCU1bm8nH3OU"
      },
      "outputs": [],
      "source": [
        "qf.add_sma(periods = 20)\n",
        "qf.add_sma(periods = 100)"
      ]
    },
    {
      "cell_type": "code",
      "execution_count": null,
      "metadata": {
        "id": "myjlNiSaH3OU"
      },
      "outputs": [],
      "source": [
        "qf.iplot(title = \"GE\", name = \"GE\")"
      ]
    },
    {
      "cell_type": "code",
      "execution_count": null,
      "metadata": {
        "id": "fVG2GOiiH3OV"
      },
      "outputs": [],
      "source": []
    },
    {
      "cell_type": "markdown",
      "metadata": {
        "id": "PDfb0uDzH3OW"
      },
      "source": [
        "__EMA__"
      ]
    },
    {
      "cell_type": "code",
      "execution_count": null,
      "metadata": {
        "id": "p0ZouE2cH3OW"
      },
      "outputs": [],
      "source": [
        "ge"
      ]
    },
    {
      "cell_type": "code",
      "execution_count": null,
      "metadata": {
        "id": "aYi_0bW4H3OW"
      },
      "outputs": [],
      "source": [
        "qf = cf.QuantFig(df = ge.loc[\"2018\":\"2020\"])"
      ]
    },
    {
      "cell_type": "code",
      "execution_count": null,
      "metadata": {
        "id": "2N_CUtz6H3OW"
      },
      "outputs": [],
      "source": [
        "qf.add_ema(periods = 20)\n",
        "qf.add_ema(periods = 100)"
      ]
    },
    {
      "cell_type": "code",
      "execution_count": null,
      "metadata": {
        "id": "R4cr7UPcH3OX"
      },
      "outputs": [],
      "source": [
        "qf.iplot(title = \"GE\", name = \"GE\")"
      ]
    },
    {
      "cell_type": "code",
      "execution_count": null,
      "metadata": {
        "id": "zwiZfzUlH3OX"
      },
      "outputs": [],
      "source": []
    },
    {
      "cell_type": "markdown",
      "metadata": {
        "id": "DR2o9Ph1H3OX"
      },
      "source": [
        "__SMA / EMA__"
      ]
    },
    {
      "cell_type": "code",
      "execution_count": null,
      "metadata": {
        "id": "mGGrGZ4vH3OX"
      },
      "outputs": [],
      "source": [
        "ge"
      ]
    },
    {
      "cell_type": "code",
      "execution_count": null,
      "metadata": {
        "id": "4MeXndpWH3OX"
      },
      "outputs": [],
      "source": [
        "qf = cf.QuantFig(df = ge.loc[\"2018\":\"2019\"])"
      ]
    },
    {
      "cell_type": "code",
      "execution_count": null,
      "metadata": {
        "id": "XuwFDOgYH3OY"
      },
      "outputs": [],
      "source": [
        "qf.add_sma(periods = 50)\n",
        "qf.add_ema(periods = 50)"
      ]
    },
    {
      "cell_type": "code",
      "execution_count": null,
      "metadata": {
        "id": "yy369MC_H3OY"
      },
      "outputs": [],
      "source": [
        "qf.iplot(title = \"GE\", name = \"GE\")"
      ]
    },
    {
      "cell_type": "code",
      "execution_count": null,
      "metadata": {
        "id": "n4K4iLYSH3OY"
      },
      "outputs": [],
      "source": []
    },
    {
      "cell_type": "markdown",
      "metadata": {
        "id": "29xf-OsZH3OY"
      },
      "source": [
        "__MACD__"
      ]
    },
    {
      "cell_type": "code",
      "execution_count": null,
      "metadata": {
        "id": "1FPKKSnEH3OY"
      },
      "outputs": [],
      "source": [
        "ge"
      ]
    },
    {
      "cell_type": "code",
      "execution_count": null,
      "metadata": {
        "id": "cVgyt6baH3OY"
      },
      "outputs": [],
      "source": [
        "qf = cf.QuantFig(df = ge.loc[\"2019\":])"
      ]
    },
    {
      "cell_type": "code",
      "execution_count": null,
      "metadata": {
        "id": "YL6XFhKaH3OZ"
      },
      "outputs": [],
      "source": [
        "qf.add_macd(fast_period = 12, slow_period = 26, signal_period = 9)"
      ]
    },
    {
      "cell_type": "code",
      "execution_count": null,
      "metadata": {
        "id": "oOVxyVY_H3OZ"
      },
      "outputs": [],
      "source": [
        "qf.iplot(title = \"GE\", name = \"GE\")"
      ]
    },
    {
      "cell_type": "code",
      "execution_count": null,
      "metadata": {
        "id": "OeuvkRSDH3OZ"
      },
      "outputs": [],
      "source": []
    },
    {
      "cell_type": "markdown",
      "metadata": {
        "id": "XJpmqTDaH3OZ"
      },
      "source": [
        "__RSI__"
      ]
    },
    {
      "cell_type": "code",
      "execution_count": null,
      "metadata": {
        "id": "Z71ZnItQH3OZ"
      },
      "outputs": [],
      "source": [
        "ge"
      ]
    },
    {
      "cell_type": "code",
      "execution_count": null,
      "metadata": {
        "id": "vRm015VNH3OZ"
      },
      "outputs": [],
      "source": [
        "qf = cf.QuantFig(df = ge.loc[\"2019\":])"
      ]
    },
    {
      "cell_type": "code",
      "execution_count": null,
      "metadata": {
        "id": "OYX_flbdH3OZ"
      },
      "outputs": [],
      "source": [
        "qf.add_rsi(periods = 20, rsi_upper = 70, rsi_lower = 30)"
      ]
    },
    {
      "cell_type": "code",
      "execution_count": null,
      "metadata": {
        "id": "PLEgGRniH3Oa"
      },
      "outputs": [],
      "source": [
        "qf.iplot(title = \"GE\", name = \"GE\")"
      ]
    },
    {
      "cell_type": "code",
      "execution_count": null,
      "metadata": {
        "id": "NaxECS0wH3Oa"
      },
      "outputs": [],
      "source": []
    },
    {
      "cell_type": "markdown",
      "metadata": {
        "id": "njtkkzHzH3Oa"
      },
      "source": [
        "__MACD & RSI__"
      ]
    },
    {
      "cell_type": "code",
      "execution_count": null,
      "metadata": {
        "id": "pE5Uw5V3H3Oa"
      },
      "outputs": [],
      "source": [
        "ge"
      ]
    },
    {
      "cell_type": "code",
      "execution_count": null,
      "metadata": {
        "id": "AIb4sQKHH3Oa"
      },
      "outputs": [],
      "source": [
        "qf = cf.QuantFig(df = ge.loc[\"2019\":])"
      ]
    },
    {
      "cell_type": "code",
      "execution_count": null,
      "metadata": {
        "id": "O0XJenfnH3Ob"
      },
      "outputs": [],
      "source": [
        "qf.add_macd(fast_period = 12, slow_period = 26, signal_period = 9)\n",
        "qf.add_rsi(periods = 20, rsi_upper = 70, rsi_lower = 30)"
      ]
    },
    {
      "cell_type": "code",
      "execution_count": null,
      "metadata": {
        "id": "REPEtEysH3Ob"
      },
      "outputs": [],
      "source": [
        "qf.iplot(title = \"GE\", name = \"GE\")"
      ]
    },
    {
      "cell_type": "code",
      "execution_count": null,
      "metadata": {
        "id": "oS-AL6CFH3Ob"
      },
      "outputs": [],
      "source": []
    },
    {
      "cell_type": "markdown",
      "metadata": {
        "id": "uMx3NYuLH3Ob"
      },
      "source": [
        "__Bollinger Bands__"
      ]
    },
    {
      "cell_type": "code",
      "execution_count": null,
      "metadata": {
        "id": "MI1PTjQ8H3Ob"
      },
      "outputs": [],
      "source": [
        "ge"
      ]
    },
    {
      "cell_type": "code",
      "execution_count": null,
      "metadata": {
        "id": "-nsMHcnxH3Oc"
      },
      "outputs": [],
      "source": [
        "qf = cf.QuantFig(df = ge.loc[\"2019\":])"
      ]
    },
    {
      "cell_type": "code",
      "execution_count": null,
      "metadata": {
        "id": "eQ9zD0osH3Oc"
      },
      "outputs": [],
      "source": [
        "qf.add_bollinger_bands(periods = 20, boll_std = 2)"
      ]
    },
    {
      "cell_type": "code",
      "execution_count": null,
      "metadata": {
        "id": "OEFCAfJmH3Oc"
      },
      "outputs": [],
      "source": [
        "qf.iplot(title = \"GE\", name = \"GE\")"
      ]
    },
    {
      "cell_type": "code",
      "execution_count": null,
      "metadata": {
        "id": "euRleXzsH3Od"
      },
      "outputs": [],
      "source": []
    }
  ],
  "metadata": {
    "kernelspec": {
      "display_name": "Python 3 (ipykernel)",
      "language": "python",
      "name": "python3"
    },
    "language_info": {
      "codemirror_mode": {
        "name": "ipython",
        "version": 3
      },
      "file_extension": ".py",
      "mimetype": "text/x-python",
      "name": "python",
      "nbconvert_exporter": "python",
      "pygments_lexer": "ipython3",
      "version": "3.9.16"
    },
    "colab": {
      "provenance": [],
      "include_colab_link": true
    }
  },
  "nbformat": 4,
  "nbformat_minor": 0
}